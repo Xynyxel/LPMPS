{
 "cells": [
  {
   "cell_type": "code",
   "execution_count": 1,
   "metadata": {
    "ExecuteTime": {
     "end_time": "2022-04-07T12:00:15.271370Z",
     "start_time": "2022-04-07T12:00:13.999811Z"
    }
   },
   "outputs": [],
   "source": [
    "import pandas as pd"
   ]
  },
  {
   "cell_type": "code",
   "execution_count": 4,
   "metadata": {
    "ExecuteTime": {
     "end_time": "2022-04-07T12:00:46.969108Z",
     "start_time": "2022-04-07T12:00:44.554218Z"
    }
   },
   "outputs": [
    {
     "data": {
      "text/html": [
       "<div>\n",
       "<style scoped>\n",
       "    .dataframe tbody tr th:only-of-type {\n",
       "        vertical-align: middle;\n",
       "    }\n",
       "\n",
       "    .dataframe tbody tr th {\n",
       "        vertical-align: top;\n",
       "    }\n",
       "\n",
       "    .dataframe thead th {\n",
       "        text-align: right;\n",
       "    }\n",
       "</style>\n",
       "<table border=\"1\" class=\"dataframe\">\n",
       "  <thead>\n",
       "    <tr style=\"text-align: right;\">\n",
       "      <th></th>\n",
       "      <th>No</th>\n",
       "      <th>Nama Satuan Pendidikan</th>\n",
       "      <th>NPSN</th>\n",
       "      <th>Bentuk Pendidikan</th>\n",
       "      <th>Kecamatan</th>\n",
       "      <th>Kabupaten/Kota</th>\n",
       "      <th>Lintang</th>\n",
       "      <th>Bujur</th>\n",
       "    </tr>\n",
       "  </thead>\n",
       "  <tbody>\n",
       "    <tr>\n",
       "      <th>0</th>\n",
       "      <td>1</td>\n",
       "      <td>255 - SD NEGERI 026 PANCUR</td>\n",
       "      <td>10402146</td>\n",
       "      <td>SD</td>\n",
       "      <td>Keritang</td>\n",
       "      <td>Kab. Indragiri Hilir</td>\n",
       "      <td>-0.7382</td>\n",
       "      <td>102.666</td>\n",
       "    </tr>\n",
       "    <tr>\n",
       "      <th>1</th>\n",
       "      <td>2</td>\n",
       "      <td>ABDILLAH</td>\n",
       "      <td>69985919</td>\n",
       "      <td>KB</td>\n",
       "      <td>Pangean</td>\n",
       "      <td>Kab. Kuantan Singingi</td>\n",
       "      <td>0.0000</td>\n",
       "      <td>0.000</td>\n",
       "    </tr>\n",
       "    <tr>\n",
       "      <th>2</th>\n",
       "      <td>3</td>\n",
       "      <td>ADITAMA</td>\n",
       "      <td>69793522</td>\n",
       "      <td>KB</td>\n",
       "      <td>Kuala Cenaku</td>\n",
       "      <td>Kab. Indragiri Hulu</td>\n",
       "      <td>0.0000</td>\n",
       "      <td>0.000</td>\n",
       "    </tr>\n",
       "    <tr>\n",
       "      <th>3</th>\n",
       "      <td>4</td>\n",
       "      <td>AINUN ZARIAH</td>\n",
       "      <td>69793469</td>\n",
       "      <td>KB</td>\n",
       "      <td>Kelayang</td>\n",
       "      <td>Kab. Indragiri Hulu</td>\n",
       "      <td>0.0000</td>\n",
       "      <td>0.000</td>\n",
       "    </tr>\n",
       "    <tr>\n",
       "      <th>4</th>\n",
       "      <td>5</td>\n",
       "      <td>AISIYAH BUSTANUL ATHFAL</td>\n",
       "      <td>69780846</td>\n",
       "      <td>TK</td>\n",
       "      <td>Rambah</td>\n",
       "      <td>Kab. Rokan Hulu</td>\n",
       "      <td>0.0000</td>\n",
       "      <td>0.000</td>\n",
       "    </tr>\n",
       "  </tbody>\n",
       "</table>\n",
       "</div>"
      ],
      "text/plain": [
       "   No      Nama Satuan Pendidikan      NPSN Bentuk Pendidikan     Kecamatan  \\\n",
       "0   1  255 - SD NEGERI 026 PANCUR  10402146                SD      Keritang   \n",
       "1   2                    ABDILLAH  69985919                KB       Pangean   \n",
       "2   3                     ADITAMA  69793522                KB  Kuala Cenaku   \n",
       "3   4                AINUN ZARIAH  69793469                KB      Kelayang   \n",
       "4   5     AISIYAH BUSTANUL ATHFAL  69780846                TK        Rambah   \n",
       "\n",
       "          Kabupaten/Kota  Lintang    Bujur  \n",
       "0   Kab. Indragiri Hilir  -0.7382  102.666  \n",
       "1  Kab. Kuantan Singingi   0.0000    0.000  \n",
       "2    Kab. Indragiri Hulu   0.0000    0.000  \n",
       "3    Kab. Indragiri Hulu   0.0000    0.000  \n",
       "4        Kab. Rokan Hulu   0.0000    0.000  "
      ]
     },
     "execution_count": 4,
     "metadata": {},
     "output_type": "execute_result"
    }
   ],
   "source": [
    "df = pd.read_excel(\"Rekap Data per Satuan Pendidikan - Data Pokok Pendidikan berdasarkan koordinat.xlsx\")\n",
    "df.head()"
   ]
  },
  {
   "cell_type": "code",
   "execution_count": 5,
   "metadata": {
    "ExecuteTime": {
     "end_time": "2022-04-07T12:02:55.036601Z",
     "start_time": "2022-04-07T12:02:55.024603Z"
    }
   },
   "outputs": [
    {
     "data": {
      "text/plain": [
       "array(['SD', 'KB', 'TK', 'TPA', 'SPS', 'PKBM', 'SKB', 'SMP', 'SPK SD',\n",
       "       'SMK', 'SLB', 'SMA', 'SPK SMA', 'SPK SMP'], dtype=object)"
      ]
     },
     "execution_count": 5,
     "metadata": {},
     "output_type": "execute_result"
    }
   ],
   "source": [
    "df[\"Bentuk Pendidikan\"].unique()"
   ]
  },
  {
   "cell_type": "code",
   "execution_count": 21,
   "metadata": {
    "ExecuteTime": {
     "end_time": "2022-04-07T12:10:17.584277Z",
     "start_time": "2022-04-07T12:10:17.575309Z"
    }
   },
   "outputs": [],
   "source": [
    "df1 = df[df[\"Bentuk Pendidikan\"].isin(['SD','SMP','SMA','SMK'])]"
   ]
  },
  {
   "cell_type": "code",
   "execution_count": 25,
   "metadata": {
    "ExecuteTime": {
     "end_time": "2022-04-07T12:11:35.819828Z",
     "start_time": "2022-04-07T12:11:35.807833Z"
    }
   },
   "outputs": [],
   "source": [
    "result = df1.sort_values(by='Bentuk Pendidikan', ascending=True)"
   ]
  },
  {
   "cell_type": "code",
   "execution_count": 26,
   "metadata": {
    "ExecuteTime": {
     "end_time": "2022-04-07T12:11:36.143973Z",
     "start_time": "2022-04-07T12:11:36.117709Z"
    }
   },
   "outputs": [
    {
     "data": {
      "text/html": [
       "<div>\n",
       "<style scoped>\n",
       "    .dataframe tbody tr th:only-of-type {\n",
       "        vertical-align: middle;\n",
       "    }\n",
       "\n",
       "    .dataframe tbody tr th {\n",
       "        vertical-align: top;\n",
       "    }\n",
       "\n",
       "    .dataframe thead th {\n",
       "        text-align: right;\n",
       "    }\n",
       "</style>\n",
       "<table border=\"1\" class=\"dataframe\">\n",
       "  <thead>\n",
       "    <tr style=\"text-align: right;\">\n",
       "      <th></th>\n",
       "      <th>No</th>\n",
       "      <th>Nama Satuan Pendidikan</th>\n",
       "      <th>NPSN</th>\n",
       "      <th>Bentuk Pendidikan</th>\n",
       "      <th>Kecamatan</th>\n",
       "      <th>Kabupaten/Kota</th>\n",
       "      <th>Lintang</th>\n",
       "      <th>Bujur</th>\n",
       "    </tr>\n",
       "  </thead>\n",
       "  <tbody>\n",
       "    <tr>\n",
       "      <th>0</th>\n",
       "      <td>1</td>\n",
       "      <td>255 - SD NEGERI 026 PANCUR</td>\n",
       "      <td>10402146</td>\n",
       "      <td>SD</td>\n",
       "      <td>Keritang</td>\n",
       "      <td>Kab. Indragiri Hilir</td>\n",
       "      <td>-0.738200</td>\n",
       "      <td>102.666000</td>\n",
       "    </tr>\n",
       "    <tr>\n",
       "      <th>4932</th>\n",
       "      <td>4933</td>\n",
       "      <td>SD NEGERI 08 Minas Timur</td>\n",
       "      <td>10404901</td>\n",
       "      <td>SD</td>\n",
       "      <td>Minas</td>\n",
       "      <td>Kab. Siak</td>\n",
       "      <td>0.839400</td>\n",
       "      <td>101.669600</td>\n",
       "    </tr>\n",
       "    <tr>\n",
       "      <th>4933</th>\n",
       "      <td>4934</td>\n",
       "      <td>SD NEGERI 08 PALUH</td>\n",
       "      <td>10495162</td>\n",
       "      <td>SD</td>\n",
       "      <td>Mempura</td>\n",
       "      <td>Kab. Siak</td>\n",
       "      <td>0.808100</td>\n",
       "      <td>102.108000</td>\n",
       "    </tr>\n",
       "    <tr>\n",
       "      <th>4934</th>\n",
       "      <td>4935</td>\n",
       "      <td>SD NEGERI 08 PINANG SEBATANG TIMUR</td>\n",
       "      <td>10403388</td>\n",
       "      <td>SD</td>\n",
       "      <td>Tualang</td>\n",
       "      <td>Kab. Siak</td>\n",
       "      <td>0.732100</td>\n",
       "      <td>102.708500</td>\n",
       "    </tr>\n",
       "    <tr>\n",
       "      <th>4935</th>\n",
       "      <td>4936</td>\n",
       "      <td>SD NEGERI 08 SAM-SAM</td>\n",
       "      <td>10404898</td>\n",
       "      <td>SD</td>\n",
       "      <td>Kandis</td>\n",
       "      <td>Kab. Siak</td>\n",
       "      <td>0.970900</td>\n",
       "      <td>100.989900</td>\n",
       "    </tr>\n",
       "    <tr>\n",
       "      <th>...</th>\n",
       "      <td>...</td>\n",
       "      <td>...</td>\n",
       "      <td>...</td>\n",
       "      <td>...</td>\n",
       "      <td>...</td>\n",
       "      <td>...</td>\n",
       "      <td>...</td>\n",
       "      <td>...</td>\n",
       "    </tr>\n",
       "    <tr>\n",
       "      <th>7435</th>\n",
       "      <td>7436</td>\n",
       "      <td>SMP NEGERI 2 KERINCI KANAN</td>\n",
       "      <td>10403441</td>\n",
       "      <td>SMP</td>\n",
       "      <td>Kerinci Kanan</td>\n",
       "      <td>Kab. Siak</td>\n",
       "      <td>0.430100</td>\n",
       "      <td>101.815000</td>\n",
       "    </tr>\n",
       "    <tr>\n",
       "      <th>7434</th>\n",
       "      <td>7435</td>\n",
       "      <td>SMP NEGERI 2 KEPENUHAN</td>\n",
       "      <td>10495617</td>\n",
       "      <td>SMP</td>\n",
       "      <td>Kepenuhan</td>\n",
       "      <td>Kab. Rokan Hulu</td>\n",
       "      <td>1.105600</td>\n",
       "      <td>100.602500</td>\n",
       "    </tr>\n",
       "    <tr>\n",
       "      <th>7433</th>\n",
       "      <td>7434</td>\n",
       "      <td>SMP NEGERI 2 KEMUNING</td>\n",
       "      <td>10497358</td>\n",
       "      <td>SMP</td>\n",
       "      <td>Kemuning</td>\n",
       "      <td>Kab. Indragiri Hilir</td>\n",
       "      <td>-0.862342</td>\n",
       "      <td>102.653703</td>\n",
       "    </tr>\n",
       "    <tr>\n",
       "      <th>7440</th>\n",
       "      <td>7441</td>\n",
       "      <td>SMP NEGERI 2 KUALA CENAKU</td>\n",
       "      <td>10494279</td>\n",
       "      <td>SMP</td>\n",
       "      <td>Kuala Cenaku</td>\n",
       "      <td>Kab. Indragiri Hulu</td>\n",
       "      <td>-0.179400</td>\n",
       "      <td>102.641700</td>\n",
       "    </tr>\n",
       "    <tr>\n",
       "      <th>8272</th>\n",
       "      <td>8273</td>\n",
       "      <td>SMPT Madinatul Munawwarah</td>\n",
       "      <td>10404667</td>\n",
       "      <td>SMP</td>\n",
       "      <td>Bandar Petalangan</td>\n",
       "      <td>Kab. Pelalawan</td>\n",
       "      <td>0.249200</td>\n",
       "      <td>101.838000</td>\n",
       "    </tr>\n",
       "  </tbody>\n",
       "</table>\n",
       "<p>5792 rows × 8 columns</p>\n",
       "</div>"
      ],
      "text/plain": [
       "        No              Nama Satuan Pendidikan      NPSN Bentuk Pendidikan  \\\n",
       "0        1          255 - SD NEGERI 026 PANCUR  10402146                SD   \n",
       "4932  4933            SD NEGERI 08 Minas Timur  10404901                SD   \n",
       "4933  4934                  SD NEGERI 08 PALUH  10495162                SD   \n",
       "4934  4935  SD NEGERI 08 PINANG SEBATANG TIMUR  10403388                SD   \n",
       "4935  4936                SD NEGERI 08 SAM-SAM  10404898                SD   \n",
       "...    ...                                 ...       ...               ...   \n",
       "7435  7436          SMP NEGERI 2 KERINCI KANAN  10403441               SMP   \n",
       "7434  7435              SMP NEGERI 2 KEPENUHAN  10495617               SMP   \n",
       "7433  7434               SMP NEGERI 2 KEMUNING  10497358               SMP   \n",
       "7440  7441           SMP NEGERI 2 KUALA CENAKU  10494279               SMP   \n",
       "8272  8273           SMPT Madinatul Munawwarah  10404667               SMP   \n",
       "\n",
       "              Kecamatan        Kabupaten/Kota   Lintang       Bujur  \n",
       "0              Keritang  Kab. Indragiri Hilir -0.738200  102.666000  \n",
       "4932              Minas             Kab. Siak  0.839400  101.669600  \n",
       "4933            Mempura             Kab. Siak  0.808100  102.108000  \n",
       "4934            Tualang             Kab. Siak  0.732100  102.708500  \n",
       "4935             Kandis             Kab. Siak  0.970900  100.989900  \n",
       "...                 ...                   ...       ...         ...  \n",
       "7435      Kerinci Kanan             Kab. Siak  0.430100  101.815000  \n",
       "7434          Kepenuhan       Kab. Rokan Hulu  1.105600  100.602500  \n",
       "7433           Kemuning  Kab. Indragiri Hilir -0.862342  102.653703  \n",
       "7440       Kuala Cenaku   Kab. Indragiri Hulu -0.179400  102.641700  \n",
       "8272  Bandar Petalangan        Kab. Pelalawan  0.249200  101.838000  \n",
       "\n",
       "[5792 rows x 8 columns]"
      ]
     },
     "execution_count": 26,
     "metadata": {},
     "output_type": "execute_result"
    }
   ],
   "source": [
    "result"
   ]
  },
  {
   "cell_type": "code",
   "execution_count": 27,
   "metadata": {
    "ExecuteTime": {
     "end_time": "2022-04-07T12:12:52.290774Z",
     "start_time": "2022-04-07T12:12:51.001406Z"
    }
   },
   "outputs": [],
   "source": [
    "result.to_excel(r'datasatuanSekolah_bersih.xlsx', index = False)"
   ]
  },
  {
   "cell_type": "code",
   "execution_count": null,
   "metadata": {},
   "outputs": [],
   "source": []
  }
 ],
 "metadata": {
  "kernelspec": {
   "display_name": "Python 3",
   "language": "python",
   "name": "python3"
  },
  "language_info": {
   "codemirror_mode": {
    "name": "ipython",
    "version": 3
   },
   "file_extension": ".py",
   "mimetype": "text/x-python",
   "name": "python",
   "nbconvert_exporter": "python",
   "pygments_lexer": "ipython3",
   "version": "3.8.5"
  },
  "toc": {
   "base_numbering": 1,
   "nav_menu": {},
   "number_sections": true,
   "sideBar": true,
   "skip_h1_title": false,
   "title_cell": "Table of Contents",
   "title_sidebar": "Contents",
   "toc_cell": false,
   "toc_position": {},
   "toc_section_display": true,
   "toc_window_display": false
  },
  "varInspector": {
   "cols": {
    "lenName": 16,
    "lenType": 16,
    "lenVar": 40
   },
   "kernels_config": {
    "python": {
     "delete_cmd_postfix": "",
     "delete_cmd_prefix": "del ",
     "library": "var_list.py",
     "varRefreshCmd": "print(var_dic_list())"
    },
    "r": {
     "delete_cmd_postfix": ") ",
     "delete_cmd_prefix": "rm(",
     "library": "var_list.r",
     "varRefreshCmd": "cat(var_dic_list()) "
    }
   },
   "types_to_exclude": [
    "module",
    "function",
    "builtin_function_or_method",
    "instance",
    "_Feature"
   ],
   "window_display": false
  }
 },
 "nbformat": 4,
 "nbformat_minor": 4
}
